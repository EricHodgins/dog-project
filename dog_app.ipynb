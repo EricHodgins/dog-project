{
 "cells": [
  {
   "cell_type": "markdown",
   "metadata": {},
   "source": [
    "# Artificial Intelligence Nanodegree\n",
    "\n",
    "## Convolutional Neural Networks\n",
    "\n",
    "## Project: Write an Algorithm for a Dog Identification App \n",
    "\n",
    "---\n",
    "\n",
    "In this notebook, some template code has already been provided for you, and you will need to implement additional functionality to successfully complete this project. You will not need to modify the included code beyond what is requested. Sections that begin with **'(IMPLEMENTATION)'** in the header indicate that the following block of code will require additional functionality which you must provide. Instructions will be provided for each section, and the specifics of the implementation are marked in the code block with a 'TODO' statement. Please be sure to read the instructions carefully! \n",
    "\n",
    "> **Note**: Once you have completed all of the code implementations, you need to finalize your work by exporting the iPython Notebook as an HTML document. Before exporting the notebook to html, all of the code cells need to have been run so that reviewers can see the final implementation and output. You can then export the notebook by using the menu above and navigating to  \\n\",\n",
    "    \"**File -> Download as -> HTML (.html)**. Include the finished document along with this notebook as your submission.\n",
    "\n",
    "In addition to implementing code, there will be questions that you must answer which relate to the project and your implementation. Each section where you will answer a question is preceded by a **'Question X'** header. Carefully read each question and provide thorough answers in the following text boxes that begin with **'Answer:'**. Your project submission will be evaluated based on your answers to each of the questions and the implementation you provide.\n",
    "\n",
    ">**Note:** Code and Markdown cells can be executed using the **Shift + Enter** keyboard shortcut.  Markdown cells can be edited by double-clicking the cell to enter edit mode.\n",
    "\n",
    "The rubric contains _optional_ \"Stand Out Suggestions\" for enhancing the project beyond the minimum requirements. If you decide to pursue the \"Stand Out Suggestions\", you should include the code in this IPython notebook.\n",
    "\n",
    "\n",
    "\n",
    "---\n",
    "### Why We're Here \n",
    "\n",
    "In this notebook, you will make the first steps towards developing an algorithm that could be used as part of a mobile or web app.  At the end of this project, your code will accept any user-supplied image as input.  If a dog is detected in the image, it will provide an estimate of the dog's breed.  If a human is detected, it will provide an estimate of the dog breed that is most resembling.  The image below displays potential sample output of your finished project (... but we expect that each student's algorithm will behave differently!). \n",
    "\n",
    "![Sample Dog Output](images/sample_dog_output.png)\n",
    "\n",
    "In this real-world setting, you will need to piece together a series of models to perform different tasks; for instance, the algorithm that detects humans in an image will be different from the CNN that infers dog breed.  There are many points of possible failure, and no perfect algorithm exists.  Your imperfect solution will nonetheless create a fun user experience!\n",
    "\n",
    "### The Road Ahead\n",
    "\n",
    "We break the notebook into separate steps.  Feel free to use the links below to navigate the notebook.\n",
    "\n",
    "* [Step 0](#step0): Import Datasets\n",
    "* [Step 1](#step1): Detect Humans\n",
    "* [Step 2](#step2): Detect Dogs\n",
    "* [Step 3](#step3): Create a CNN to Classify Dog Breeds (from Scratch)\n",
    "* [Step 4](#step4): Use a CNN to Classify Dog Breeds (using Transfer Learning)\n",
    "* [Step 5](#step5): Create a CNN to Classify Dog Breeds (using Transfer Learning)\n",
    "* [Step 6](#step6): Write your Algorithm\n",
    "* [Step 7](#step7): Test Your Algorithm\n",
    "\n",
    "---\n",
    "<a id='step0'></a>\n",
    "## Step 0: Import Datasets\n",
    "\n",
    "### Import Dog Dataset\n",
    "\n",
    "In the code cell below, we import a dataset of dog images.  We populate a few variables through the use of the `load_files` function from the scikit-learn library:\n",
    "- `train_files`, `valid_files`, `test_files` - numpy arrays containing file paths to images\n",
    "- `train_targets`, `valid_targets`, `test_targets` - numpy arrays containing onehot-encoded classification labels \n",
    "- `dog_names` - list of string-valued dog breed names for translating labels"
   ]
  },
  {
   "cell_type": "code",
   "execution_count": 1,
   "metadata": {},
   "outputs": [
    {
     "name": "stderr",
     "output_type": "stream",
     "text": [
      "/home/ubuntu/anaconda3/envs/dog_project/lib/python3.6/site-packages/h5py/__init__.py:36: FutureWarning: Conversion of the second argument of issubdtype from `float` to `np.floating` is deprecated. In future, it will be treated as `np.float64 == np.dtype(float).type`.\n",
      "  from ._conv import register_converters as _register_converters\n",
      "Using TensorFlow backend.\n"
     ]
    },
    {
     "name": "stdout",
     "output_type": "stream",
     "text": [
      "There are 133 total dog categories.\n",
      "There are 8351 total dog images.\n",
      "\n",
      "There are 6680 training dog images.\n",
      "There are 835 validation dog images.\n",
      "There are 836 test dog images.\n"
     ]
    }
   ],
   "source": [
    "from sklearn.datasets import load_files       \n",
    "from keras.utils import np_utils\n",
    "import numpy as np\n",
    "from glob import glob\n",
    "\n",
    "# define function to load train, test, and validation datasets\n",
    "def load_dataset(path):\n",
    "    data = load_files(path)\n",
    "    dog_files = np.array(data['filenames'])\n",
    "    dog_targets = np_utils.to_categorical(np.array(data['target']), 133)\n",
    "    return dog_files, dog_targets\n",
    "\n",
    "# load train, test, and validation datasets\n",
    "train_files, train_targets = load_dataset('dogImages/train')\n",
    "valid_files, valid_targets = load_dataset('dogImages/valid')\n",
    "test_files, test_targets = load_dataset('dogImages/test')\n",
    "\n",
    "# load list of dog names\n",
    "dog_names = [item[20:-1] for item in sorted(glob(\"dogImages/train/*/\"))]\n",
    "\n",
    "# print statistics about the dataset\n",
    "print('There are %d total dog categories.' % len(dog_names))\n",
    "print('There are %s total dog images.\\n' % len(np.hstack([train_files, valid_files, test_files])))\n",
    "print('There are %d training dog images.' % len(train_files))\n",
    "print('There are %d validation dog images.' % len(valid_files))\n",
    "print('There are %d test dog images.'% len(test_files))"
   ]
  },
  {
   "cell_type": "markdown",
   "metadata": {},
   "source": [
    "### Import Human Dataset\n",
    "\n",
    "In the code cell below, we import a dataset of human images, where the file paths are stored in the numpy array `human_files`."
   ]
  },
  {
   "cell_type": "code",
   "execution_count": 2,
   "metadata": {},
   "outputs": [
    {
     "name": "stdout",
     "output_type": "stream",
     "text": [
      "There are 13233 total human images.\n"
     ]
    }
   ],
   "source": [
    "import random\n",
    "random.seed(8675309)\n",
    "\n",
    "# load filenames in shuffled human dataset\n",
    "human_files = np.array(glob(\"lfw/*/*\"))\n",
    "random.shuffle(human_files)\n",
    "\n",
    "# print statistics about the dataset\n",
    "print('There are %d total human images.' % len(human_files))"
   ]
  },
  {
   "cell_type": "markdown",
   "metadata": {},
   "source": [
    "---\n",
    "<a id='step1'></a>\n",
    "## Step 1: Detect Humans\n",
    "\n",
    "We use OpenCV's implementation of [Haar feature-based cascade classifiers](http://docs.opencv.org/trunk/d7/d8b/tutorial_py_face_detection.html) to detect human faces in images.  OpenCV provides many pre-trained face detectors, stored as XML files on [github](https://github.com/opencv/opencv/tree/master/data/haarcascades).  We have downloaded one of these detectors and stored it in the `haarcascades` directory.\n",
    "\n",
    "In the next code cell, we demonstrate how to use this detector to find human faces in a sample image."
   ]
  },
  {
   "cell_type": "code",
   "execution_count": 3,
   "metadata": {},
   "outputs": [
    {
     "name": "stdout",
     "output_type": "stream",
     "text": [
      "Number of faces detected: 1\n"
     ]
    },
    {
     "data": {
      "image/png": "[encoded data removed]",
      "text/plain": [
       "<matplotlib.figure.Figure at 0x7f9454c33400>"
      ]
     },
     "metadata": {},
     "output_type": "display_data"
    }
   ],
   "source": [
    "import cv2                \n",
    "import matplotlib.pyplot as plt                        \n",
    "%matplotlib inline                               \n",
    "\n",
    "# extract pre-trained face detector\n",
    "face_cascade = cv2.CascadeClassifier('haarcascades/haarcascade_frontalface_alt.xml')\n",
    "\n",
    "# load color (BGR) image\n",
    "img = cv2.imread(human_files[3])\n",
    "# convert BGR image to grayscale\n",
    "gray = cv2.cvtColor(img, cv2.COLOR_BGR2GRAY)\n",
    "\n",
    "# find faces in image\n",
    "faces = face_cascade.detectMultiScale(gray)\n",
    "\n",
    "# print number of faces detected in the image\n",
    "print('Number of faces detected:', len(faces))\n",
    "\n",
    "# get bounding box for each detected face\n",
    "for (x,y,w,h) in faces:\n",
    "    # add bounding box to color image\n",
    "    cv2.rectangle(img,(x,y),(x+w,y+h),(255,0,0),2)\n",
    "    \n",
    "# convert BGR image to RGB for plotting\n",
    "cv_rgb = cv2.cvtColor(img, cv2.COLOR_BGR2RGB)\n",
    "\n",
    "# display the image, along with bounding box\n",
    "plt.imshow(cv_rgb)\n",
    "plt.show()"
   ]
  },
  {
   "cell_type": "markdown",
   "metadata": {},
   "source": [
    "Before using any of the face detectors, it is standard procedure to convert the images to grayscale.  The `detectMultiScale` function executes the classifier stored in `face_cascade` and takes the grayscale image as a parameter.  \n",
    "\n",
    "In the above code, `faces` is a numpy array of detected faces, where each row corresponds to a detected face.  Each detected face is a 1D array with four entries that specifies the bounding box of the detected face.  The first two entries in the array (extracted in the above code as `x` and `y`) specify the horizontal and vertical positions of the top left corner of the bounding box.  The last two entries in the array (extracted here as `w` and `h`) specify the width and height of the box.\n",
    "\n",
    "### Write a Human Face Detector\n",
    "\n",
    "We can use this procedure to write a function that returns `True` if a human face is detected in an image and `False` otherwise.  This function, aptly named `face_detector`, takes a string-valued file path to an image as input and appears in the code block below."
   ]
  },
  {
   "cell_type": "code",
   "execution_count": 4,
   "metadata": {},
   "outputs": [],
   "source": [
    "# returns \"True\" if face is detected in image stored at img_path\n",
    "def face_detector(img_path):\n",
    "    img = cv2.imread(img_path)\n",
    "    gray = cv2.cvtColor(img, cv2.COLOR_BGR2GRAY)\n",
    "    faces = face_cascade.detectMultiScale(gray)\n",
    "    return len(faces) > 0"
   ]
  },
  {
   "cell_type": "markdown",
   "metadata": {},
   "source": [
    "### (IMPLEMENTATION) Assess the Human Face Detector\n",
    "\n",
    "__Question 1:__ Use the code cell below to test the performance of the `face_detector` function.  \n",
    "- What percentage of the first 100 images in `human_files` have a detected human face?  \n",
    "- What percentage of the first 100 images in `dog_files` have a detected human face? \n",
    "\n",
    "Ideally, we would like 100% of human images with a detected face and 0% of dog images with a detected face.  You will see that our algorithm falls short of this goal, but still gives acceptable performance.  We extract the file paths for the first 100 images from each of the datasets and store them in the numpy arrays `human_files_short` and `dog_files_short`.\n",
    "\n",
    "__Answer:__ \n",
    "- Percent of human faces detected on human files:  98.0%\n",
    "- Percent of human faces detected on dog files:  11.0%"
   ]
  },
  {
   "cell_type": "code",
   "execution_count": 5,
   "metadata": {},
   "outputs": [
    {
     "name": "stdout",
     "output_type": "stream",
     "text": [
      "Percent of human faces detected on human files:  98.0 %\n",
      "Percent of human faces detected on dog files:  11.0 %\n"
     ]
    }
   ],
   "source": [
    "human_files_short = human_files[:100]\n",
    "dog_files_short = train_files[:100]\n",
    "# Do NOT modify the code above this line.\n",
    "\n",
    "## TODO: Test the performance of the face_detector algorithm \n",
    "## on the images in human_files_short and dog_files_short.\n",
    "human_faces_detected_on_human_files = 0\n",
    "human_faces_detected_on_dog_files = 0\n",
    "\n",
    "for i in range(len(human_files_short)):\n",
    "    human_img_path = human_files_short[i]\n",
    "    dog_img_path = dog_files_short[i]\n",
    "    \n",
    "    if (face_detector(human_img_path)):\n",
    "        human_faces_detected_on_human_files += 1\n",
    "    \n",
    "    if (face_detector(dog_img_path)):\n",
    "        human_faces_detected_on_dog_files += 1\n",
    "        \n",
    "print(\"Percent of human faces detected on human files: \", (human_faces_detected_on_human_files/100.0)*100, \"%\")\n",
    "print(\"Percent of human faces detected on dog files: \", (human_faces_detected_on_dog_files/100.0)*100, \"%\")\n"
   ]
  },
  {
   "cell_type": "markdown",
   "metadata": {},
   "source": [
    "__Question 2:__ This algorithmic choice necessitates that we communicate to the user that we accept human images only when they provide a clear view of a face (otherwise, we risk having unneccessarily frustrated users!). In your opinion, is this a reasonable expectation to pose on the user? If not, can you think of a way to detect humans in images that does not necessitate an image with a clearly presented face?\n",
    "\n",
    "__Answer:__\n",
    "- Depending on what the app is used for exactly this could be reasonable expectation to have the images clearly show a face.  If the app is to find faces in poorly lighted conditions or in other settings that make the faces no so obviouse this would be unreasonable.\n",
    "\n",
    "- To detect humans in images without clearly presented faces you could train CNN with images of humans in those types of images possibly.\n",
    "\n",
    "We suggest the face detector from OpenCV as a potential way to detect human images in your algorithm, but you are free to explore other approaches, especially approaches that make use of deep learning :).  Please use the code cell below to design and test your own face detection algorithm.  If you decide to pursue this _optional_ task, report performance on each of the datasets."
   ]
  },
  {
   "cell_type": "code",
   "execution_count": null,
   "metadata": {
    "collapsed": true
   },
   "outputs": [],
   "source": [
    "## (Optional) TODO: Report the performance of another  \n",
    "## face detection algorithm on the LFW dataset\n",
    "### Feel free to use as many code cells as needed."
   ]
  },
  {
   "cell_type": "markdown",
   "metadata": {},
   "source": [
    "---\n",
    "<a id='step2'></a>\n",
    "## Step 2: Detect Dogs\n",
    "\n",
    "In this section, we use a pre-trained [ResNet-50](http://ethereon.github.io/netscope/#/gist/db945b393d40bfa26006) model to detect dogs in images.  Our first line of code downloads the ResNet-50 model, along with weights that have been trained on [ImageNet](http://www.image-net.org/), a very large, very popular dataset used for image classification and other vision tasks.  ImageNet contains over 10 million URLs, each linking to an image containing an object from one of [1000 categories](https://gist.github.com/yrevar/942d3a0ac09ec9e5eb3a).  Given an image, this pre-trained ResNet-50 model returns a prediction (derived from the available categories in ImageNet) for the object that is contained in the image."
   ]
  },
  {
   "cell_type": "code",
   "execution_count": 6,
   "metadata": {},
   "outputs": [],
   "source": [
    "from keras.applications.resnet50 import ResNet50\n",
    "\n",
    "# define ResNet50 model\n",
    "ResNet50_model = ResNet50(weights='imagenet')"
   ]
  },
  {
   "cell_type": "markdown",
   "metadata": {},
   "source": [
    "### Pre-process the Data\n",
    "\n",
    "When using TensorFlow as backend, Keras CNNs require a 4D array (which we'll also refer to as a 4D tensor) as input, with shape\n",
    "\n",
    "$$\n",
    "(\\text{nb_samples}, \\text{rows}, \\text{columns}, \\text{channels}),\n",
    "$$\n",
    "\n",
    "where `nb_samples` corresponds to the total number of images (or samples), and `rows`, `columns`, and `channels` correspond to the number of rows, columns, and channels for each image, respectively.  \n",
    "\n",
    "The `path_to_tensor` function below takes a string-valued file path to a color image as input and returns a 4D tensor suitable for supplying to a Keras CNN.  The function first loads the image and resizes it to a square image that is $224 \\times 224$ pixels.  Next, the image is converted to an array, which is then resized to a 4D tensor.  In this case, since we are working with color images, each image has three channels.  Likewise, since we are processing a single image (or sample), the returned tensor will always have shape\n",
    "\n",
    "$$\n",
    "(1, 224, 224, 3).\n",
    "$$\n",
    "\n",
    "The `paths_to_tensor` function takes a numpy array of string-valued image paths as input and returns a 4D tensor with shape \n",
    "\n",
    "$$\n",
    "(\\text{nb_samples}, 224, 224, 3).\n",
    "$$\n",
    "\n",
    "Here, `nb_samples` is the number of samples, or number of images, in the supplied array of image paths.  It is best to think of `nb_samples` as the number of 3D tensors (where each 3D tensor corresponds to a different image) in your dataset!"
   ]
  },
  {
   "cell_type": "code",
   "execution_count": 7,
   "metadata": {},
   "outputs": [],
   "source": [
    "from keras.preprocessing import image                  \n",
    "from tqdm import tqdm\n",
    "\n",
    "def path_to_tensor(img_path):\n",
    "    # loads RGB image as PIL.Image.Image type\n",
    "    img = image.load_img(img_path, target_size=(224, 224))\n",
    "    # convert PIL.Image.Image type to 3D tensor with shape (224, 224, 3)\n",
    "    x = image.img_to_array(img)\n",
    "    # convert 3D tensor to 4D tensor with shape (1, 224, 224, 3) and return 4D tensor\n",
    "    return np.expand_dims(x, axis=0)\n",
    "\n",
    "def paths_to_tensor(img_paths):\n",
    "    list_of_tensors = [path_to_tensor(img_path) for img_path in tqdm(img_paths)]\n",
    "    return np.vstack(list_of_tensors)"
   ]
  },
  {
   "cell_type": "markdown",
   "metadata": {},
   "source": [
    "### Making Predictions with ResNet-50\n",
    "\n",
    "Getting the 4D tensor ready for ResNet-50, and for any other pre-trained model in Keras, requires some additional processing.  First, the RGB image is converted to BGR by reordering the channels.  All pre-trained models have the additional normalization step that the mean pixel (expressed in RGB as $[103.939, 116.779, 123.68]$ and calculated from all pixels in all images in ImageNet) must be subtracted from every pixel in each image.  This is implemented in the imported function `preprocess_input`.  If you're curious, you can check the code for `preprocess_input` [here](https://github.com/fchollet/keras/blob/master/keras/applications/imagenet_utils.py).\n",
    "\n",
    "Now that we have a way to format our image for supplying to ResNet-50, we are now ready to use the model to extract the predictions.  This is accomplished with the `predict` method, which returns an array whose $i$-th entry is the model's predicted probability that the image belongs to the $i$-th ImageNet category.  This is implemented in the `ResNet50_predict_labels` function below.\n",
    "\n",
    "By taking the argmax of the predicted probability vector, we obtain an integer corresponding to the model's predicted object class, which we can identify with an object category through the use of this [dictionary](https://gist.github.com/yrevar/942d3a0ac09ec9e5eb3a). "
   ]
  },
  {
   "cell_type": "code",
   "execution_count": 8,
   "metadata": {},
   "outputs": [],
   "source": [
    "from keras.applications.resnet50 import preprocess_input, decode_predictions\n",
    "\n",
    "def ResNet50_predict_labels(img_path):\n",
    "    # returns prediction vector for image located at img_path\n",
    "    img = preprocess_input(path_to_tensor(img_path))\n",
    "    return np.argmax(ResNet50_model.predict(img))"
   ]
  },
  {
   "cell_type": "markdown",
   "metadata": {},
   "source": [
    "### Write a Dog Detector\n",
    "\n",
    "While looking at the [dictionary](https://gist.github.com/yrevar/942d3a0ac09ec9e5eb3a), you will notice that the categories corresponding to dogs appear in an uninterrupted sequence and correspond to dictionary keys 151-268, inclusive, to include all categories from `'Chihuahua'` to `'Mexican hairless'`.  Thus, in order to check to see if an image is predicted to contain a dog by the pre-trained ResNet-50 model, we need only check if the `ResNet50_predict_labels` function above returns a value between 151 and 268 (inclusive).\n",
    "\n",
    "We use these ideas to complete the `dog_detector` function below, which returns `True` if a dog is detected in an image (and `False` if not)."
   ]
  },
  {
   "cell_type": "code",
   "execution_count": 9,
   "metadata": {},
   "outputs": [],
   "source": [
    "### returns \"True\" if a dog is detected in the image stored at img_path\n",
    "def dog_detector(img_path):\n",
    "    prediction = ResNet50_predict_labels(img_path)\n",
    "    return ((prediction <= 268) & (prediction >= 151)) "
   ]
  },
  {
   "cell_type": "markdown",
   "metadata": {},
   "source": [
    "### (IMPLEMENTATION) Assess the Dog Detector\n",
    "\n",
    "__Question 3:__ Use the code cell below to test the performance of your `dog_detector` function.  \n",
    "- What percentage of the images in `human_files_short` have a detected dog?  \n",
    "- What percentage of the images in `dog_files_short` have a detected dog?\n",
    "\n",
    "__Answer:__ \n",
    "- Number of dogs detected in human_files_short:  1%\n",
    "- Number of dogs detected in dog_files_short:  100%"
   ]
  },
  {
   "cell_type": "code",
   "execution_count": 10,
   "metadata": {},
   "outputs": [
    {
     "name": "stdout",
     "output_type": "stream",
     "text": [
      "Number of dogs detected in human_files_short:  1.0 %\n",
      "Number of dogs detected in dog_files_short:  100.0 %\n"
     ]
    }
   ],
   "source": [
    "### TODO: Test the performance of the dog_detector function\n",
    "### on the images in human_files_short and dog_files_short.\n",
    "\n",
    "dog_detected_in_human_files = 0\n",
    "dog_detected_in_dog_files = 0\n",
    "\n",
    "for i in range(len(human_files_short)):\n",
    "    if (dog_detector(human_files_short[i])):\n",
    "        dog_detected_in_human_files += 1\n",
    "    \n",
    "    if (dog_detector(dog_files_short[i])):\n",
    "        dog_detected_in_dog_files += 1\n",
    "    \n",
    "\n",
    "print(\"Number of dogs detected in human_files_short: \", (dog_detected_in_human_files/100.0)*100.0, \"%\")\n",
    "print(\"Number of dogs detected in dog_files_short: \", (dog_detected_in_dog_files/100.0)*100.0, \"%\")"
   ]
  },
  {
   "cell_type": "markdown",
   "metadata": {},
   "source": [
    "---\n",
    "<a id='step3'></a>\n",
    "## Step 3: Create a CNN to Classify Dog Breeds (from Scratch)\n",
    "\n",
    "Now that we have functions for detecting humans and dogs in images, we need a way to predict breed from images.  In this step, you will create a CNN that classifies dog breeds.  You must create your CNN _from scratch_ (so, you can't use transfer learning _yet_!), and you must attain a test accuracy of at least 1%.  In Step 5 of this notebook, you will have the opportunity to use transfer learning to create a CNN that attains greatly improved accuracy.\n",
    "\n",
    "Be careful with adding too many trainable layers!  More parameters means longer training, which means you are more likely to need a GPU to accelerate the training process.  Thankfully, Keras provides a handy estimate of the time that each epoch is likely to take; you can extrapolate this estimate to figure out how long it will take for your algorithm to train. \n",
    "\n",
    "We mention that the task of assigning breed to dogs from images is considered exceptionally challenging.  To see why, consider that *even a human* would have great difficulty in distinguishing between a Brittany and a Welsh Springer Spaniel.  \n",
    "\n",
    "Brittany | Welsh Springer Spaniel\n",
    "- | - \n",
    "<img src=\"images/Brittany_02625.jpg\" width=\"100\"> | <img src=\"images/Welsh_springer_spaniel_08203.jpg\" width=\"200\">\n",
    "\n",
    "It is not difficult to find other dog breed pairs with minimal inter-class variation (for instance, Curly-Coated Retrievers and American Water Spaniels).  \n",
    "\n",
    "Curly-Coated Retriever | American Water Spaniel\n",
    "- | -\n",
    "<img src=\"images/Curly-coated_retriever_03896.jpg\" width=\"200\"> | <img src=\"images/American_water_spaniel_00648.jpg\" width=\"200\">\n",
    "\n",
    "\n",
    "Likewise, recall that labradors come in yellow, chocolate, and black.  Your vision-based algorithm will have to conquer this high intra-class variation to determine how to classify all of these different shades as the same breed.  \n",
    "\n",
    "Yellow Labrador | Chocolate Labrador | Black Labrador\n",
    "- | -\n",
    "<img src=\"images/Labrador_retriever_06457.jpg\" width=\"150\"> | <img src=\"images/Labrador_retriever_06455.jpg\" width=\"240\"> | <img src=\"images/Labrador_retriever_06449.jpg\" width=\"220\">\n",
    "\n",
    "We also mention that random chance presents an exceptionally low bar: setting aside the fact that the classes are slightly imabalanced, a random guess will provide a correct answer roughly 1 in 133 times, which corresponds to an accuracy of less than 1%.  \n",
    "\n",
    "Remember that the practice is far ahead of the theory in deep learning.  Experiment with many different architectures, and trust your intuition.  And, of course, have fun! \n",
    "\n",
    "### Pre-process the Data\n",
    "\n",
    "We rescale the images by dividing every pixel in every image by 255."
   ]
  },
  {
   "cell_type": "code",
   "execution_count": 11,
   "metadata": {},
   "outputs": [
    {
     "name": "stderr",
     "output_type": "stream",
     "text": [
      "100%|██████████| 6680/6680 [00:55<00:00, 120.78it/s]\n",
      "100%|██████████| 835/835 [00:06<00:00, 134.57it/s]\n",
      "100%|██████████| 836/836 [00:06<00:00, 135.88it/s]\n"
     ]
    }
   ],
   "source": [
    "from PIL import ImageFile                            \n",
    "ImageFile.LOAD_TRUNCATED_IMAGES = True                 \n",
    "\n",
    "# pre-process the data for Keras\n",
    "train_tensors = paths_to_tensor(train_files).astype('float32')/255\n",
    "valid_tensors = paths_to_tensor(valid_files).astype('float32')/255\n",
    "test_tensors = paths_to_tensor(test_files).astype('float32')/255"
   ]
  },
  {
   "cell_type": "markdown",
   "metadata": {},
   "source": [
    "### (IMPLEMENTATION) Model Architecture\n",
    "\n",
    "Create a CNN to classify dog breed.  At the end of your code cell block, summarize the layers of your model by executing the line:\n",
    "    \n",
    "        model.summary()\n",
    "\n",
    "We have imported some Python modules to get you started, but feel free to import as many modules as you need.  If you end up getting stuck, here's a hint that specifies a model that trains relatively fast on CPU and attains >1% test accuracy in 5 epochs:\n",
    "\n",
    "![Sample CNN](images/sample_cnn.png)\n",
    "           \n",
    "__Question 4:__ Outline the steps you took to get to your final CNN architecture and your reasoning at each step.  If you chose to use the hinted architecture above, describe why you think that CNN architecture should work well for the image classification task.\n",
    "\n",
    "__Answer:__ "
   ]
  },
  {
   "cell_type": "code",
   "execution_count": 12,
   "metadata": {},
   "outputs": [
    {
     "name": "stdout",
     "output_type": "stream",
     "text": [
      "_________________________________________________________________\n",
      "Layer (type)                 Output Shape              Param #   \n",
      "=================================================================\n",
      "conv2d_1 (Conv2D)            (None, 224, 224, 16)      208       \n",
      "_________________________________________________________________\n",
      "max_pooling2d_2 (MaxPooling2 (None, 112, 112, 16)      0         \n",
      "_________________________________________________________________\n",
      "conv2d_2 (Conv2D)            (None, 112, 112, 32)      2080      \n",
      "_________________________________________________________________\n",
      "max_pooling2d_3 (MaxPooling2 (None, 56, 56, 32)        0         \n",
      "_________________________________________________________________\n",
      "conv2d_3 (Conv2D)            (None, 56, 56, 64)        8256      \n",
      "_________________________________________________________________\n",
      "max_pooling2d_4 (MaxPooling2 (None, 28, 28, 64)        0         \n",
      "_________________________________________________________________\n",
      "conv2d_4 (Conv2D)            (None, 28, 28, 128)       32896     \n",
      "_________________________________________________________________\n",
      "max_pooling2d_5 (MaxPooling2 (None, 14, 14, 128)       0         \n",
      "_________________________________________________________________\n",
      "global_average_pooling2d_1 ( (None, 128)               0         \n",
      "_________________________________________________________________\n",
      "dense_1 (Dense)              (None, 133)               17157     \n",
      "=================================================================\n",
      "Total params: 60,597\n",
      "Trainable params: 60,597\n",
      "Non-trainable params: 0\n",
      "_________________________________________________________________\n"
     ]
    }
   ],
   "source": [
    "from keras.layers import Conv2D, MaxPooling2D, GlobalAveragePooling2D\n",
    "from keras.layers import Dropout, Flatten, Dense\n",
    "from keras.models import Sequential\n",
    "\n",
    "model = Sequential()\n",
    "\n",
    "### TODO: Define your architecture.\n",
    "model.add(Conv2D(filters=16, kernel_size=2, padding='same', activation='relu', input_shape=(224, 224, 3)))\n",
    "model.add(MaxPooling2D(pool_size=2))\n",
    "model.add(Conv2D(filters=32, kernel_size=2, padding='same', activation='relu'))\n",
    "model.add(MaxPooling2D(pool_size=2))\n",
    "model.add(Conv2D(filters=64, kernel_size=2, padding='same', activation='relu'))\n",
    "model.add(MaxPooling2D(pool_size=2))\n",
    "\n",
    "model.add(Conv2D(filters=128, kernel_size=2, padding='same', activation='relu'))\n",
    "model.add(MaxPooling2D(pool_size=2))\n",
    "\n",
    "model.add(GlobalAveragePooling2D())\n",
    "model.add(Dense(133, activation='softmax'))\n",
    "\n",
    "model.summary()"
   ]
  },
  {
   "cell_type": "markdown",
   "metadata": {},
   "source": [
    "### Compile the Model"
   ]
  },
  {
   "cell_type": "code",
   "execution_count": 13,
   "metadata": {},
   "outputs": [],
   "source": [
    "model.compile(optimizer='rmsprop', loss='categorical_crossentropy', metrics=['accuracy'])"
   ]
  },
  {
   "cell_type": "markdown",
   "metadata": {},
   "source": [
    "### (IMPLEMENTATION) Train the Model\n",
    "\n",
    "Train your model in the code cell below.  Use model checkpointing to save the model that attains the best validation loss.\n",
    "\n",
    "You are welcome to [augment the training data](https://blog.keras.io/building-powerful-image-classification-models-using-very-little-data.html), but this is not a requirement. "
   ]
  },
  {
   "cell_type": "code",
   "execution_count": 14,
   "metadata": {},
   "outputs": [
    {
     "name": "stdout",
     "output_type": "stream",
     "text": [
      "Train on 6680 samples, validate on 835 samples\n",
      "Epoch 1/5\n",
      "6660/6680 [============================>.] - ETA: 0s - loss: 4.8831 - acc: 0.0093\n",
      "Epoch 00001: val_loss improved from inf to 4.86671, saving model to saved_models/weights.best.from_scratch.hdf5\n",
      "6680/6680 [==============================] - 251s 38ms/step - loss: 4.8831 - acc: 0.0093 - val_loss: 4.8667 - val_acc: 0.0132\n",
      "Epoch 2/5\n",
      "6660/6680 [============================>.] - ETA: 0s - loss: 4.8452 - acc: 0.0131\n",
      "Epoch 00002: val_loss improved from 4.86671 to 4.80578, saving model to saved_models/weights.best.from_scratch.hdf5\n",
      "6680/6680 [==============================] - 250s 37ms/step - loss: 4.8458 - acc: 0.0130 - val_loss: 4.8058 - val_acc: 0.0192\n",
      "Epoch 3/5\n",
      "6660/6680 [============================>.] - ETA: 0s - loss: 4.7659 - acc: 0.0236\n",
      "Epoch 00003: val_loss improved from 4.80578 to 4.72874, saving model to saved_models/weights.best.from_scratch.hdf5\n",
      "6680/6680 [==============================] - 250s 37ms/step - loss: 4.7657 - acc: 0.0237 - val_loss: 4.7287 - val_acc: 0.0287\n",
      "Epoch 4/5\n",
      "6660/6680 [============================>.] - ETA: 0s - loss: 4.6975 - acc: 0.0290\n",
      "Epoch 00004: val_loss improved from 4.72874 to 4.68418, saving model to saved_models/weights.best.from_scratch.hdf5\n",
      "6680/6680 [==============================] - 250s 37ms/step - loss: 4.6970 - acc: 0.0292 - val_loss: 4.6842 - val_acc: 0.0323\n",
      "Epoch 5/5\n",
      "6660/6680 [============================>.] - ETA: 0s - loss: 4.6304 - acc: 0.0381\n",
      "Epoch 00005: val_loss improved from 4.68418 to 4.64711, saving model to saved_models/weights.best.from_scratch.hdf5\n",
      "6680/6680 [==============================] - 250s 37ms/step - loss: 4.6302 - acc: 0.0383 - val_loss: 4.6471 - val_acc: 0.0443\n"
     ]
    },
    {
     "data": {
      "text/plain": [
       "<keras.callbacks.History at 0x7f93fb1a9240>"
      ]
     },
     "execution_count": 14,
     "metadata": {},
     "output_type": "execute_result"
    }
   ],
   "source": [
    "from keras.callbacks import ModelCheckpoint  \n",
    "\n",
    "### TODO: specify the number of epochs that you would like to use to train the model.\n",
    "\n",
    "epochs = 5\n",
    "\n",
    "### Do NOT modify the code below this line.\n",
    "\n",
    "checkpointer = ModelCheckpoint(filepath='saved_models/weights.best.from_scratch.hdf5', \n",
    "                               verbose=1, save_best_only=True)\n",
    "\n",
    "model.fit(train_tensors, train_targets, \n",
    "          validation_data=(valid_tensors, valid_targets),\n",
    "          epochs=epochs, batch_size=20, callbacks=[checkpointer], verbose=1)"
   ]
  },
  {
   "cell_type": "markdown",
   "metadata": {},
   "source": [
    "## Load the Model with the Best Validation Loss"
   ]
  },
  {
   "cell_type": "code",
   "execution_count": 15,
   "metadata": {},
   "outputs": [],
   "source": [
    "model.load_weights('saved_models/weights.best.from_scratch.hdf5')"
   ]
  },
  {
   "cell_type": "markdown",
   "metadata": {},
   "source": [
    "### Test the Model\n",
    "\n",
    "Try out your model on the test dataset of dog images.  Ensure that your test accuracy is greater than 1%."
   ]
  },
  {
   "cell_type": "code",
   "execution_count": 16,
   "metadata": {},
   "outputs": [
    {
     "name": "stdout",
     "output_type": "stream",
     "text": [
      "Test accuracy: 5.1435%\n"
     ]
    }
   ],
   "source": [
    "# get index of predicted dog breed for each image in test set\n",
    "dog_breed_predictions = [np.argmax(model.predict(np.expand_dims(tensor, axis=0))) for tensor in test_tensors]\n",
    "\n",
    "# report test accuracy\n",
    "test_accuracy = 100*np.sum(np.array(dog_breed_predictions)==np.argmax(test_targets, axis=1))/len(dog_breed_predictions)\n",
    "print('Test accuracy: %.4f%%' % test_accuracy)"
   ]
  },
  {
   "cell_type": "markdown",
   "metadata": {},
   "source": [
    "---\n",
    "<a id='step4'></a>\n",
    "## Step 4: Use a CNN to Classify Dog Breeds\n",
    "\n",
    "To reduce training time without sacrificing accuracy, we show you how to train a CNN using transfer learning.  In the following step, you will get a chance to use transfer learning to train your own CNN.\n",
    "\n",
    "### Obtain Bottleneck Features"
   ]
  },
  {
   "cell_type": "code",
   "execution_count": 17,
   "metadata": {},
   "outputs": [],
   "source": [
    "bottleneck_features = np.load('bottleneck_features/DogVGG16Data.npz')\n",
    "train_VGG16 = bottleneck_features['train']\n",
    "valid_VGG16 = bottleneck_features['valid']\n",
    "test_VGG16 = bottleneck_features['test']"
   ]
  },
  {
   "cell_type": "markdown",
   "metadata": {},
   "source": [
    "### Model Architecture\n",
    "\n",
    "The model uses the the pre-trained VGG-16 model as a fixed feature extractor, where the last convolutional output of VGG-16 is fed as input to our model.  We only add a global average pooling layer and a fully connected layer, where the latter contains one node for each dog category and is equipped with a softmax."
   ]
  },
  {
   "cell_type": "code",
   "execution_count": 18,
   "metadata": {},
   "outputs": [
    {
     "name": "stdout",
     "output_type": "stream",
     "text": [
      "_________________________________________________________________\n",
      "Layer (type)                 Output Shape              Param #   \n",
      "=================================================================\n",
      "global_average_pooling2d_2 ( (None, 512)               0         \n",
      "_________________________________________________________________\n",
      "dense_2 (Dense)              (None, 133)               68229     \n",
      "=================================================================\n",
      "Total params: 68,229\n",
      "Trainable params: 68,229\n",
      "Non-trainable params: 0\n",
      "_________________________________________________________________\n"
     ]
    }
   ],
   "source": [
    "VGG16_model = Sequential()\n",
    "VGG16_model.add(GlobalAveragePooling2D(input_shape=train_VGG16.shape[1:]))\n",
    "VGG16_model.add(Dense(133, activation='softmax'))\n",
    "\n",
    "VGG16_model.summary()"
   ]
  },
  {
   "cell_type": "markdown",
   "metadata": {},
   "source": [
    "### Compile the Model"
   ]
  },
  {
   "cell_type": "code",
   "execution_count": 19,
   "metadata": {},
   "outputs": [],
   "source": [
    "VGG16_model.compile(loss='categorical_crossentropy', optimizer='rmsprop', metrics=['accuracy'])"
   ]
  },
  {
   "cell_type": "markdown",
   "metadata": {},
   "source": [
    "### Train the Model"
   ]
  },
  {
   "cell_type": "code",
   "execution_count": 20,
   "metadata": {},
   "outputs": [
    {
     "name": "stdout",
     "output_type": "stream",
     "text": [
      "Train on 6680 samples, validate on 835 samples\n",
      "Epoch 1/20\n",
      "6580/6680 [============================>.] - ETA: 0s - loss: 12.5296 - acc: 0.1146\n",
      "Epoch 00001: val_loss improved from inf to 11.08040, saving model to saved_models/weights.best.VGG16.hdf5\n",
      "6680/6680 [==============================] - 2s 234us/step - loss: 12.5114 - acc: 0.1153 - val_loss: 11.0804 - val_acc: 0.1928\n",
      "Epoch 2/20\n",
      "6660/6680 [============================>.] - ETA: 0s - loss: 10.1890 - acc: 0.2676\n",
      "Epoch 00002: val_loss improved from 11.08040 to 9.92816, saving model to saved_models/weights.best.VGG16.hdf5\n",
      "6680/6680 [==============================] - 1s 167us/step - loss: 10.1921 - acc: 0.2675 - val_loss: 9.9282 - val_acc: 0.2898\n",
      "Epoch 3/20\n",
      "6500/6680 [============================>.] - ETA: 0s - loss: 9.3521 - acc: 0.3491\n",
      "Epoch 00003: val_loss improved from 9.92816 to 9.67735, saving model to saved_models/weights.best.VGG16.hdf5\n",
      "6680/6680 [==============================] - 1s 171us/step - loss: 9.3704 - acc: 0.3488 - val_loss: 9.6773 - val_acc: 0.3126\n",
      "Epoch 4/20\n",
      "6520/6680 [============================>.] - ETA: 0s - loss: 9.0225 - acc: 0.3863\n",
      "Epoch 00004: val_loss improved from 9.67735 to 9.25811, saving model to saved_models/weights.best.VGG16.hdf5\n",
      "6680/6680 [==============================] - 1s 169us/step - loss: 9.0266 - acc: 0.3861 - val_loss: 9.2581 - val_acc: 0.3377\n",
      "Epoch 5/20\n",
      "6600/6680 [============================>.] - ETA: 0s - loss: 8.6963 - acc: 0.4153\n",
      "Epoch 00005: val_loss improved from 9.25811 to 8.99386, saving model to saved_models/weights.best.VGG16.hdf5\n",
      "6680/6680 [==============================] - 1s 169us/step - loss: 8.6842 - acc: 0.4162 - val_loss: 8.9939 - val_acc: 0.3605\n",
      "Epoch 6/20\n",
      "6660/6680 [============================>.] - ETA: 0s - loss: 8.4215 - acc: 0.4365\n",
      "Epoch 00006: val_loss improved from 8.99386 to 8.79287, saving model to saved_models/weights.best.VGG16.hdf5\n",
      "6680/6680 [==============================] - 1s 167us/step - loss: 8.4086 - acc: 0.4373 - val_loss: 8.7929 - val_acc: 0.3689\n",
      "Epoch 7/20\n",
      "6580/6680 [============================>.] - ETA: 0s - loss: 8.0747 - acc: 0.4631\n",
      "Epoch 00007: val_loss improved from 8.79287 to 8.49937, saving model to saved_models/weights.best.VGG16.hdf5\n",
      "6680/6680 [==============================] - 1s 168us/step - loss: 8.0562 - acc: 0.4645 - val_loss: 8.4994 - val_acc: 0.3701\n",
      "Epoch 8/20\n",
      "6620/6680 [============================>.] - ETA: 0s - loss: 7.7909 - acc: 0.4843\n",
      "Epoch 00008: val_loss improved from 8.49937 to 8.41670, saving model to saved_models/weights.best.VGG16.hdf5\n",
      "6680/6680 [==============================] - 1s 169us/step - loss: 7.7877 - acc: 0.4844 - val_loss: 8.4167 - val_acc: 0.3880\n",
      "Epoch 9/20\n",
      "6540/6680 [============================>.] - ETA: 0s - loss: 7.6213 - acc: 0.5021\n",
      "Epoch 00009: val_loss improved from 8.41670 to 8.21508, saving model to saved_models/weights.best.VGG16.hdf5\n",
      "6680/6680 [==============================] - 1s 169us/step - loss: 7.5984 - acc: 0.5036 - val_loss: 8.2151 - val_acc: 0.4060\n",
      "Epoch 10/20\n",
      "6560/6680 [============================>.] - ETA: 0s - loss: 7.4595 - acc: 0.5130\n",
      "Epoch 00010: val_loss improved from 8.21508 to 8.07491, saving model to saved_models/weights.best.VGG16.hdf5\n",
      "6680/6680 [==============================] - 1s 170us/step - loss: 7.4743 - acc: 0.5118 - val_loss: 8.0749 - val_acc: 0.4120\n",
      "Epoch 11/20\n",
      "6380/6680 [===========================>..] - ETA: 0s - loss: 7.2887 - acc: 0.5248\n",
      "Epoch 00011: val_loss improved from 8.07491 to 7.99166, saving model to saved_models/weights.best.VGG16.hdf5\n",
      "6680/6680 [==============================] - 1s 166us/step - loss: 7.2492 - acc: 0.5274 - val_loss: 7.9917 - val_acc: 0.4263\n",
      "Epoch 12/20\n",
      "6500/6680 [============================>.] - ETA: 0s - loss: 7.1775 - acc: 0.5414\n",
      "Epoch 00012: val_loss improved from 7.99166 to 7.94977, saving model to saved_models/weights.best.VGG16.hdf5\n",
      "6680/6680 [==============================] - 1s 170us/step - loss: 7.1822 - acc: 0.5415 - val_loss: 7.9498 - val_acc: 0.4287\n",
      "Epoch 13/20\n",
      "6360/6680 [===========================>..] - ETA: 0s - loss: 7.1364 - acc: 0.5429\n",
      "Epoch 00013: val_loss improved from 7.94977 to 7.91867, saving model to saved_models/weights.best.VGG16.hdf5\n",
      "6680/6680 [==============================] - 1s 167us/step - loss: 7.1343 - acc: 0.5430 - val_loss: 7.9187 - val_acc: 0.4347\n",
      "Epoch 14/20\n",
      "6640/6680 [============================>.] - ETA: 0s - loss: 6.9535 - acc: 0.5530\n",
      "Epoch 00014: val_loss improved from 7.91867 to 7.74590, saving model to saved_models/weights.best.VGG16.hdf5\n",
      "6680/6680 [==============================] - 1s 169us/step - loss: 6.9688 - acc: 0.5521 - val_loss: 7.7459 - val_acc: 0.4419\n",
      "Epoch 15/20\n",
      "6580/6680 [============================>.] - ETA: 0s - loss: 6.7943 - acc: 0.5608\n",
      "Epoch 00015: val_loss improved from 7.74590 to 7.57529, saving model to saved_models/weights.best.VGG16.hdf5\n",
      "6680/6680 [==============================] - 1s 169us/step - loss: 6.7994 - acc: 0.5606 - val_loss: 7.5753 - val_acc: 0.4443\n",
      "Epoch 16/20\n",
      "6580/6680 [============================>.] - ETA: 0s - loss: 6.6158 - acc: 0.5667\n",
      "Epoch 00016: val_loss improved from 7.57529 to 7.46689, saving model to saved_models/weights.best.VGG16.hdf5\n",
      "6680/6680 [==============================] - 1s 168us/step - loss: 6.6090 - acc: 0.5672 - val_loss: 7.4669 - val_acc: 0.4503\n",
      "Epoch 17/20\n",
      "6620/6680 [============================>.] - ETA: 0s - loss: 6.4241 - acc: 0.5838\n",
      "Epoch 00017: val_loss improved from 7.46689 to 7.30858, saving model to saved_models/weights.best.VGG16.hdf5\n",
      "6680/6680 [==============================] - 1s 167us/step - loss: 6.4148 - acc: 0.5846 - val_loss: 7.3086 - val_acc: 0.4671\n",
      "Epoch 18/20\n",
      "6640/6680 [============================>.] - ETA: 0s - loss: 6.2793 - acc: 0.5970\n",
      "Epoch 00018: val_loss improved from 7.30858 to 7.25222, saving model to saved_models/weights.best.VGG16.hdf5\n",
      "6680/6680 [==============================] - 1s 167us/step - loss: 6.2828 - acc: 0.5969 - val_loss: 7.2522 - val_acc: 0.4671\n",
      "Epoch 19/20\n",
      "6600/6680 [============================>.] - ETA: 0s - loss: 6.1872 - acc: 0.6015\n",
      "Epoch 00019: val_loss improved from 7.25222 to 7.05332, saving model to saved_models/weights.best.VGG16.hdf5\n",
      "6680/6680 [==============================] - 1s 169us/step - loss: 6.1805 - acc: 0.6021 - val_loss: 7.0533 - val_acc: 0.4766\n",
      "Epoch 20/20\n",
      "6560/6680 [============================>.] - ETA: 0s - loss: 6.0104 - acc: 0.6128\n",
      "Epoch 00020: val_loss improved from 7.05332 to 6.99535, saving model to saved_models/weights.best.VGG16.hdf5\n",
      "6680/6680 [==============================] - 1s 169us/step - loss: 6.0047 - acc: 0.6132 - val_loss: 6.9954 - val_acc: 0.4934\n"
     ]
    },
    {
     "data": {
      "text/plain": [
       "<keras.callbacks.History at 0x7f93fac833c8>"
      ]
     },
     "execution_count": 20,
     "metadata": {},
     "output_type": "execute_result"
    }
   ],
   "source": [
    "checkpointer = ModelCheckpoint(filepath='saved_models/weights.best.VGG16.hdf5', \n",
    "                               verbose=1, save_best_only=True)\n",
    "\n",
    "VGG16_model.fit(train_VGG16, train_targets, \n",
    "          validation_data=(valid_VGG16, valid_targets),\n",
    "          epochs=20, batch_size=20, callbacks=[checkpointer], verbose=1)"
   ]
  },
  {
   "cell_type": "markdown",
   "metadata": {},
   "source": [
    "### Load the Model with the Best Validation Loss"
   ]
  },
  {
   "cell_type": "code",
   "execution_count": 21,
   "metadata": {},
   "outputs": [],
   "source": [
    "VGG16_model.load_weights('saved_models/weights.best.VGG16.hdf5')"
   ]
  },
  {
   "cell_type": "markdown",
   "metadata": {},
   "source": [
    "### Test the Model\n",
    "\n",
    "Now, we can use the CNN to test how well it identifies breed within our test dataset of dog images.  We print the test accuracy below."
   ]
  },
  {
   "cell_type": "code",
   "execution_count": 22,
   "metadata": {},
   "outputs": [
    {
     "name": "stdout",
     "output_type": "stream",
     "text": [
      "Test accuracy: 48.0861%\n"
     ]
    }
   ],
   "source": [
    "# get index of predicted dog breed for each image in test set\n",
    "VGG16_predictions = [np.argmax(VGG16_model.predict(np.expand_dims(feature, axis=0))) for feature in test_VGG16]\n",
    "\n",
    "# report test accuracy\n",
    "test_accuracy = 100*np.sum(np.array(VGG16_predictions)==np.argmax(test_targets, axis=1))/len(VGG16_predictions)\n",
    "print('Test accuracy: %.4f%%' % test_accuracy)"
   ]
  },
  {
   "cell_type": "markdown",
   "metadata": {},
   "source": [
    "### Predict Dog Breed with the Model"
   ]
  },
  {
   "cell_type": "code",
   "execution_count": 40,
   "metadata": {},
   "outputs": [
    {
     "name": "stdout",
     "output_type": "stream",
     "text": [
      "Predicted breed:  Bedlington_terrier\n",
      "Actual breed:  Bedlington_terrier\n"
     ]
    }
   ],
   "source": [
    "from extract_bottleneck_features import *\n",
    "\n",
    "def VGG16_predict_breed(img_path):\n",
    "    # extract bottleneck features\n",
    "    bottleneck_feature = extract_VGG16(path_to_tensor(img_path))\n",
    "    # obtain predicted vector\n",
    "    predicted_vector = VGG16_model.predict(bottleneck_feature)\n",
    "    # return dog breed that is predicted by the model\n",
    "    return dog_names[np.argmax(predicted_vector)]\n",
    "\n",
    "\n",
    "dog_img_path = test_files[11]\n",
    "predicted_breed = VGG16_predict_breed(dog_img_path)\n",
    "actual_breed = dog_names[np.argmax(test_targets[11])]\n",
    "print(\"Predicted breed: \", predicted_breed)\n",
    "print(\"Actual breed: \", actual_breed)"
   ]
  },
  {
   "cell_type": "markdown",
   "metadata": {},
   "source": [
    "---\n",
    "<a id='step5'></a>\n",
    "## Step 5: Create a CNN to Classify Dog Breeds (using Transfer Learning)\n",
    "\n",
    "You will now use transfer learning to create a CNN that can identify dog breed from images.  Your CNN must attain at least 60% accuracy on the test set.\n",
    "\n",
    "In Step 4, we used transfer learning to create a CNN using VGG-16 bottleneck features.  In this section, you must use the bottleneck features from a different pre-trained model.  To make things easier for you, we have pre-computed the features for all of the networks that are currently available in Keras:\n",
    "- [VGG-19](https://s3-us-west-1.amazonaws.com/udacity-aind/dog-project/DogVGG19Data.npz) bottleneck features\n",
    "- [ResNet-50](https://s3-us-west-1.amazonaws.com/udacity-aind/dog-project/DogResnet50Data.npz) bottleneck features\n",
    "- [Inception](https://s3-us-west-1.amazonaws.com/udacity-aind/dog-project/DogInceptionV3Data.npz) bottleneck features\n",
    "- [Xception](https://s3-us-west-1.amazonaws.com/udacity-aind/dog-project/DogXceptionData.npz) bottleneck features\n",
    "\n",
    "The files are encoded as such:\n",
    "\n",
    "    Dog{network}Data.npz\n",
    "    \n",
    "where `{network}`, in the above filename, can be one of `VGG19`, `Resnet50`, `InceptionV3`, or `Xception`.  Pick one of the above architectures, download the corresponding bottleneck features, and store the downloaded file in the `bottleneck_features/` folder in the repository.\n",
    "\n",
    "### (IMPLEMENTATION) Obtain Bottleneck Features\n",
    "\n",
    "In the code block below, extract the bottleneck features corresponding to the train, test, and validation sets by running the following:\n",
    "\n",
    "    bottleneck_features = np.load('bottleneck_features/Dog{network}Data.npz')\n",
    "    train_{network} = bottleneck_features['train']\n",
    "    valid_{network} = bottleneck_features['valid']\n",
    "    test_{network} = bottleneck_features['test']"
   ]
  },
  {
   "cell_type": "code",
   "execution_count": 42,
   "metadata": {},
   "outputs": [],
   "source": [
    "### TODO: Obtain bottleneck features from another pre-trained CNN.\n",
    "bottleneck_features = np.load('bottleneck_features/DogResnet50Data.npz')\n",
    "train_resNet50 = bottleneck_features['train']\n",
    "valid_resNet50 = bottleneck_features['valid']\n",
    "test_resNet50 = bottleneck_features['test']"
   ]
  },
  {
   "cell_type": "markdown",
   "metadata": {},
   "source": [
    "### (IMPLEMENTATION) Model Architecture\n",
    "\n",
    "Create a CNN to classify dog breed.  At the end of your code cell block, summarize the layers of your model by executing the line:\n",
    "    \n",
    "        <your model's name>.summary()\n",
    "   \n",
    "__Question 5:__ Outline the steps you took to get to your final CNN architecture and your reasoning at each step.  Describe why you think the architecture is suitable for the current problem.\n",
    "\n",
    "__Answer:__ \n",
    "\n"
   ]
  },
  {
   "cell_type": "code",
   "execution_count": 129,
   "metadata": {},
   "outputs": [
    {
     "name": "stdout",
     "output_type": "stream",
     "text": [
      "_________________________________________________________________\n",
      "Layer (type)                 Output Shape              Param #   \n",
      "=================================================================\n",
      "global_average_pooling2d_23  (None, 2048)              0         \n",
      "_________________________________________________________________\n",
      "dense_21 (Dense)             (None, 133)               272517    \n",
      "=================================================================\n",
      "Total params: 272,517\n",
      "Trainable params: 272,517\n",
      "Non-trainable params: 0\n",
      "_________________________________________________________________\n"
     ]
    }
   ],
   "source": [
    "### TODO: Define your architecture.\n",
    "My_ResNet50_model = Sequential()\n",
    "\n",
    "My_ResNet50_model.add(GlobalAveragePooling2D(input_shape=train_resNet50.shape[1:]))\n",
    "\n",
    "#My_ResNet50_model.add(Conv2D(filters=16, kernel_size=2, padding='same', activation='relu', \n",
    "#                            input_shape=train_resNet50.shape[1:]))\n",
    "\n",
    "\n",
    "#My_ResNet50_model.add(Flatten())#(input_shape=train_resNet50.shape[1:]))\n",
    "\n",
    "My_ResNet50_model.add(Dense(133, activation='softmax'))\n",
    "\n",
    "My_ResNet50_model.summary()\n",
    "\n"
   ]
  },
  {
   "cell_type": "markdown",
   "metadata": {},
   "source": [
    "### (IMPLEMENTATION) Compile the Model"
   ]
  },
  {
   "cell_type": "code",
   "execution_count": 130,
   "metadata": {},
   "outputs": [],
   "source": [
    "### TODO: Compile the model.\n",
    "My_ResNet50_model.compile(loss='categorical_crossentropy', optimizer='rmsprop', metrics=['accuracy'])"
   ]
  },
  {
   "cell_type": "markdown",
   "metadata": {},
   "source": [
    "### (IMPLEMENTATION) Train the Model\n",
    "\n",
    "Train your model in the code cell below.  Use model checkpointing to save the model that attains the best validation loss.  \n",
    "\n",
    "You are welcome to [augment the training data](https://blog.keras.io/building-powerful-image-classification-models-using-very-little-data.html), but this is not a requirement. "
   ]
  },
  {
   "cell_type": "code",
   "execution_count": 134,
   "metadata": {},
   "outputs": [
    {
     "name": "stdout",
     "output_type": "stream",
     "text": [
      "Train on 6680 samples, validate on 835 samples\n",
      "Epoch 1/100\n",
      "6580/6680 [============================>.] - ETA: 0s - loss: 0.2884 - acc: 0.9055\n",
      "Epoch 00001: val_loss improved from inf to 0.65482, saving model to saved_models/weights.best.ResNet50.hdf5\n",
      "6680/6680 [==============================] - 1s 220us/step - loss: 0.2884 - acc: 0.9049 - val_loss: 0.6548 - val_acc: 0.8180\n",
      "Epoch 2/100\n",
      "6440/6680 [===========================>..] - ETA: 0s - loss: 0.1731 - acc: 0.9446\n",
      "Epoch 00002: val_loss did not improve\n",
      "6680/6680 [==============================] - 1s 220us/step - loss: 0.1742 - acc: 0.9451 - val_loss: 0.6800 - val_acc: 0.8084\n",
      "Epoch 3/100\n",
      "6440/6680 [===========================>..] - ETA: 0s - loss: 0.1212 - acc: 0.9634\n",
      "Epoch 00003: val_loss improved from 0.65482 to 0.64854, saving model to saved_models/weights.best.ResNet50.hdf5\n",
      "6680/6680 [==============================] - 1s 221us/step - loss: 0.1228 - acc: 0.9627 - val_loss: 0.6485 - val_acc: 0.8240\n",
      "Epoch 4/100\n",
      "6500/6680 [============================>.] - ETA: 0s - loss: 0.0882 - acc: 0.9735\n",
      "Epoch 00004: val_loss improved from 0.64854 to 0.63270, saving model to saved_models/weights.best.ResNet50.hdf5\n",
      "6680/6680 [==============================] - 1s 221us/step - loss: 0.0874 - acc: 0.9740 - val_loss: 0.6327 - val_acc: 0.8180\n",
      "Epoch 5/100\n",
      "6600/6680 [============================>.] - ETA: 0s - loss: 0.0640 - acc: 0.9803\n",
      "Epoch 00005: val_loss did not improve\n",
      "6680/6680 [==============================] - 1s 219us/step - loss: 0.0641 - acc: 0.9801 - val_loss: 0.6902 - val_acc: 0.8072\n",
      "Epoch 6/100\n",
      "6500/6680 [============================>.] - ETA: 0s - loss: 0.0466 - acc: 0.9854\n",
      "Epoch 00006: val_loss did not improve\n",
      "6680/6680 [==============================] - 1s 220us/step - loss: 0.0472 - acc: 0.9849 - val_loss: 0.7143 - val_acc: 0.8192\n",
      "Epoch 7/100\n",
      "6480/6680 [============================>.] - ETA: 0s - loss: 0.0373 - acc: 0.9895\n",
      "Epoch 00007: val_loss did not improve\n",
      "6680/6680 [==============================] - 1s 219us/step - loss: 0.0381 - acc: 0.9892 - val_loss: 0.7278 - val_acc: 0.8228\n",
      "Epoch 8/100\n",
      "6440/6680 [===========================>..] - ETA: 0s - loss: 0.0265 - acc: 0.9915\n",
      "Epoch 00008: val_loss did not improve\n",
      "6680/6680 [==============================] - 1s 222us/step - loss: 0.0270 - acc: 0.9913 - val_loss: 0.7035 - val_acc: 0.8311\n",
      "Epoch 9/100\n",
      "6580/6680 [============================>.] - ETA: 0s - loss: 0.0211 - acc: 0.9945\n",
      "Epoch 00009: val_loss did not improve\n",
      "6680/6680 [==============================] - 1s 224us/step - loss: 0.0210 - acc: 0.9946 - val_loss: 0.7761 - val_acc: 0.8180\n",
      "Epoch 10/100\n",
      "6520/6680 [============================>.] - ETA: 0s - loss: 0.0160 - acc: 0.9965\n",
      "Epoch 00010: val_loss did not improve\n",
      "6680/6680 [==============================] - 2s 226us/step - loss: 0.0158 - acc: 0.9966 - val_loss: 0.7755 - val_acc: 0.8132\n",
      "Epoch 11/100\n",
      "6420/6680 [===========================>..] - ETA: 0s - loss: 0.0141 - acc: 0.9966\n",
      "Epoch 00011: val_loss did not improve\n",
      "6680/6680 [==============================] - 1s 223us/step - loss: 0.0138 - acc: 0.9967 - val_loss: 0.7573 - val_acc: 0.8263\n",
      "Epoch 12/100\n",
      "6640/6680 [============================>.] - ETA: 0s - loss: 0.0134 - acc: 0.9970\n",
      "Epoch 00012: val_loss did not improve\n",
      "6680/6680 [==============================] - 1s 222us/step - loss: 0.0133 - acc: 0.9970 - val_loss: 0.7840 - val_acc: 0.8204\n",
      "Epoch 13/100\n",
      "6520/6680 [============================>.] - ETA: 0s - loss: 0.0106 - acc: 0.9972\n",
      "Epoch 00013: val_loss did not improve\n",
      "6680/6680 [==============================] - 1s 220us/step - loss: 0.0105 - acc: 0.9972 - val_loss: 0.7850 - val_acc: 0.8275\n",
      "Epoch 14/100\n",
      "6440/6680 [===========================>..] - ETA: 0s - loss: 0.0101 - acc: 0.9972\n",
      "Epoch 00014: val_loss did not improve\n",
      "6680/6680 [==============================] - 1s 221us/step - loss: 0.0098 - acc: 0.9973 - val_loss: 0.8679 - val_acc: 0.8132\n",
      "Epoch 15/100\n",
      "6660/6680 [============================>.] - ETA: 0s - loss: 0.0084 - acc: 0.9982\n",
      "Epoch 00015: val_loss did not improve\n",
      "6680/6680 [==============================] - 1s 223us/step - loss: 0.0083 - acc: 0.9982 - val_loss: 0.8520 - val_acc: 0.8311\n",
      "Epoch 16/100\n",
      "6560/6680 [============================>.] - ETA: 0s - loss: 0.0064 - acc: 0.9980\n",
      "Epoch 00016: val_loss did not improve\n",
      "6680/6680 [==============================] - 1s 219us/step - loss: 0.0063 - acc: 0.9981 - val_loss: 0.8481 - val_acc: 0.8240\n",
      "Epoch 17/100\n",
      "6540/6680 [============================>.] - ETA: 0s - loss: 0.0060 - acc: 0.9986\n",
      "Epoch 00017: val_loss did not improve\n",
      "6680/6680 [==============================] - 1s 219us/step - loss: 0.0058 - acc: 0.9987 - val_loss: 0.8808 - val_acc: 0.8180\n",
      "Epoch 18/100\n",
      "6440/6680 [===========================>..] - ETA: 0s - loss: 0.0057 - acc: 0.9986\n",
      "Epoch 00018: val_loss did not improve\n",
      "6680/6680 [==============================] - 1s 221us/step - loss: 0.0055 - acc: 0.9987 - val_loss: 0.9233 - val_acc: 0.8275\n",
      "Epoch 19/100\n",
      "6640/6680 [============================>.] - ETA: 0s - loss: 0.0053 - acc: 0.9988\n",
      "Epoch 00019: val_loss did not improve\n",
      "6680/6680 [==============================] - 1s 221us/step - loss: 0.0056 - acc: 0.9987 - val_loss: 0.9471 - val_acc: 0.8180\n",
      "Epoch 20/100\n",
      "6660/6680 [============================>.] - ETA: 0s - loss: 0.0049 - acc: 0.9986\n",
      "Epoch 00020: val_loss did not improve\n",
      "6680/6680 [==============================] - 1s 222us/step - loss: 0.0049 - acc: 0.9987 - val_loss: 0.9011 - val_acc: 0.8132\n",
      "Epoch 21/100\n",
      "6520/6680 [============================>.] - ETA: 0s - loss: 0.0046 - acc: 0.9983\n",
      "Epoch 00021: val_loss did not improve\n",
      "6680/6680 [==============================] - 1s 220us/step - loss: 0.0045 - acc: 0.9984 - val_loss: 0.9648 - val_acc: 0.8180\n",
      "Epoch 22/100\n",
      "6440/6680 [===========================>..] - ETA: 0s - loss: 0.0054 - acc: 0.9984\n",
      "Epoch 00022: val_loss did not improve\n",
      "6680/6680 [==============================] - 1s 220us/step - loss: 0.0052 - acc: 0.9985 - val_loss: 0.9742 - val_acc: 0.8168\n",
      "Epoch 23/100\n",
      "6460/6680 [============================>.] - ETA: 0s - loss: 0.0037 - acc: 0.9989\n",
      "Epoch 00023: val_loss did not improve\n",
      "6680/6680 [==============================] - 1s 221us/step - loss: 0.0036 - acc: 0.9990 - val_loss: 0.9996 - val_acc: 0.8204\n",
      "Epoch 24/100\n",
      "6620/6680 [============================>.] - ETA: 0s - loss: 0.0049 - acc: 0.9988\n",
      "Epoch 00024: val_loss did not improve\n",
      "6680/6680 [==============================] - 1s 224us/step - loss: 0.0049 - acc: 0.9988 - val_loss: 0.9887 - val_acc: 0.8323\n",
      "Epoch 25/100\n",
      "6420/6680 [===========================>..] - ETA: 0s - loss: 0.0041 - acc: 0.9988\n",
      "Epoch 00025: val_loss did not improve\n",
      "6680/6680 [==============================] - 1s 221us/step - loss: 0.0040 - acc: 0.9988 - val_loss: 0.9756 - val_acc: 0.8359\n",
      "Epoch 26/100\n",
      "6480/6680 [============================>.] - ETA: 0s - loss: 0.0047 - acc: 0.9986\n",
      "Epoch 00026: val_loss did not improve\n",
      "6680/6680 [==============================] - 1s 221us/step - loss: 0.0046 - acc: 0.9987 - val_loss: 0.9679 - val_acc: 0.8359\n",
      "Epoch 27/100\n",
      "6480/6680 [============================>.] - ETA: 0s - loss: 0.0037 - acc: 0.9991\n",
      "Epoch 00027: val_loss did not improve\n",
      "6680/6680 [==============================] - 1s 220us/step - loss: 0.0044 - acc: 0.9990 - val_loss: 0.9984 - val_acc: 0.8251\n",
      "Epoch 28/100\n",
      "6440/6680 [===========================>..] - ETA: 0s - loss: 0.0028 - acc: 0.9991\n",
      "Epoch 00028: val_loss did not improve\n",
      "6680/6680 [==============================] - 1s 223us/step - loss: 0.0027 - acc: 0.9991 - val_loss: 1.0148 - val_acc: 0.8347\n",
      "Epoch 29/100\n",
      "6460/6680 [============================>.] - ETA: 0s - loss: 0.0046 - acc: 0.9988\n",
      "Epoch 00029: val_loss did not improve\n",
      "6680/6680 [==============================] - 1s 221us/step - loss: 0.0044 - acc: 0.9988 - val_loss: 1.0120 - val_acc: 0.8359\n",
      "Epoch 30/100\n",
      "6580/6680 [============================>.] - ETA: 0s - loss: 0.0046 - acc: 0.9989\n",
      "Epoch 00030: val_loss did not improve\n",
      "6680/6680 [==============================] - 1s 217us/step - loss: 0.0045 - acc: 0.9990 - val_loss: 1.0304 - val_acc: 0.8311\n",
      "Epoch 31/100\n",
      "6540/6680 [============================>.] - ETA: 0s - loss: 0.0048 - acc: 0.9991\n",
      "Epoch 00031: val_loss did not improve\n",
      "6680/6680 [==============================] - 1s 219us/step - loss: 0.0047 - acc: 0.9991 - val_loss: 1.0540 - val_acc: 0.8359\n"
     ]
    },
    {
     "name": "stdout",
     "output_type": "stream",
     "text": [
      "Epoch 32/100\n",
      "6480/6680 [============================>.] - ETA: 0s - loss: 0.0047 - acc: 0.9991\n",
      "Epoch 00032: val_loss did not improve\n",
      "6680/6680 [==============================] - 1s 219us/step - loss: 0.0045 - acc: 0.9991 - val_loss: 1.0588 - val_acc: 0.8323\n",
      "Epoch 33/100\n",
      "6600/6680 [============================>.] - ETA: 0s - loss: 0.0056 - acc: 0.9988\n",
      "Epoch 00033: val_loss did not improve\n",
      "6680/6680 [==============================] - 1s 218us/step - loss: 0.0055 - acc: 0.9988 - val_loss: 1.0490 - val_acc: 0.8347\n",
      "Epoch 34/100\n",
      "6520/6680 [============================>.] - ETA: 0s - loss: 0.0037 - acc: 0.9988\n",
      "Epoch 00034: val_loss did not improve\n",
      "6680/6680 [==============================] - 1s 220us/step - loss: 0.0036 - acc: 0.9988 - val_loss: 1.0723 - val_acc: 0.8275\n",
      "Epoch 35/100\n",
      "6500/6680 [============================>.] - ETA: 0s - loss: 0.0036 - acc: 0.9989\n",
      "Epoch 00035: val_loss did not improve\n",
      "6680/6680 [==============================] - 1s 219us/step - loss: 0.0040 - acc: 0.9988 - val_loss: 1.0723 - val_acc: 0.8359\n",
      "Epoch 36/100\n",
      "6480/6680 [============================>.] - ETA: 0s - loss: 0.0042 - acc: 0.9985\n",
      "Epoch 00036: val_loss did not improve\n",
      "6680/6680 [==============================] - 1s 218us/step - loss: 0.0041 - acc: 0.9985 - val_loss: 1.1050 - val_acc: 0.8311\n",
      "Epoch 37/100\n",
      "6640/6680 [============================>.] - ETA: 0s - loss: 0.0051 - acc: 0.9986\n",
      "Epoch 00037: val_loss did not improve\n",
      "6680/6680 [==============================] - 1s 217us/step - loss: 0.0051 - acc: 0.9987 - val_loss: 1.0682 - val_acc: 0.8263\n",
      "Epoch 38/100\n",
      "6440/6680 [===========================>..] - ETA: 0s - loss: 0.0033 - acc: 0.9986\n",
      "Epoch 00038: val_loss did not improve\n",
      "6680/6680 [==============================] - 1s 220us/step - loss: 0.0032 - acc: 0.9987 - val_loss: 1.0757 - val_acc: 0.8299\n",
      "Epoch 39/100\n",
      "6600/6680 [============================>.] - ETA: 0s - loss: 0.0042 - acc: 0.9991\n",
      "Epoch 00039: val_loss did not improve\n",
      "6680/6680 [==============================] - 1s 223us/step - loss: 0.0041 - acc: 0.9991 - val_loss: 1.1016 - val_acc: 0.8275\n",
      "Epoch 40/100\n",
      "6560/6680 [============================>.] - ETA: 0s - loss: 0.0049 - acc: 0.9991\n",
      "Epoch 00040: val_loss did not improve\n",
      "6680/6680 [==============================] - 1s 218us/step - loss: 0.0048 - acc: 0.9991 - val_loss: 1.0945 - val_acc: 0.8347\n",
      "Epoch 41/100\n",
      "6520/6680 [============================>.] - ETA: 0s - loss: 0.0039 - acc: 0.9991\n",
      "Epoch 00041: val_loss did not improve\n",
      "6680/6680 [==============================] - 1s 220us/step - loss: 0.0045 - acc: 0.9990 - val_loss: 1.1001 - val_acc: 0.8263\n",
      "Epoch 42/100\n",
      "6620/6680 [============================>.] - ETA: 0s - loss: 0.0044 - acc: 0.9989\n",
      "Epoch 00042: val_loss did not improve\n",
      "6680/6680 [==============================] - 2s 232us/step - loss: 0.0043 - acc: 0.9990 - val_loss: 1.1296 - val_acc: 0.8311\n",
      "Epoch 43/100\n",
      "6640/6680 [============================>.] - ETA: 0s - loss: 0.0045 - acc: 0.9986\n",
      "Epoch 00043: val_loss did not improve\n",
      "6680/6680 [==============================] - 2s 231us/step - loss: 0.0045 - acc: 0.9987 - val_loss: 1.0979 - val_acc: 0.8240\n",
      "Epoch 44/100\n",
      "6560/6680 [============================>.] - ETA: 0s - loss: 0.0050 - acc: 0.9986\n",
      "Epoch 00044: val_loss did not improve\n",
      "6680/6680 [==============================] - 1s 224us/step - loss: 0.0049 - acc: 0.9987 - val_loss: 1.1106 - val_acc: 0.8275\n",
      "Epoch 45/100\n",
      "6420/6680 [===========================>..] - ETA: 0s - loss: 0.0041 - acc: 0.9991\n",
      "Epoch 00045: val_loss did not improve\n",
      "6680/6680 [==============================] - 1s 221us/step - loss: 0.0046 - acc: 0.9988 - val_loss: 1.0890 - val_acc: 0.8323\n",
      "Epoch 46/100\n",
      "6500/6680 [============================>.] - ETA: 0s - loss: 0.0042 - acc: 0.9989\n",
      "Epoch 00046: val_loss did not improve\n",
      "6680/6680 [==============================] - 1s 220us/step - loss: 0.0041 - acc: 0.9990 - val_loss: 1.1212 - val_acc: 0.8263\n",
      "Epoch 47/100\n",
      "6440/6680 [===========================>..] - ETA: 0s - loss: 0.0041 - acc: 0.9989\n",
      "Epoch 00047: val_loss did not improve\n",
      "6680/6680 [==============================] - 1s 222us/step - loss: 0.0041 - acc: 0.9988 - val_loss: 1.1107 - val_acc: 0.8323\n",
      "Epoch 48/100\n",
      "6440/6680 [===========================>..] - ETA: 0s - loss: 0.0039 - acc: 0.9991\n",
      "Epoch 00048: val_loss did not improve\n",
      "6680/6680 [==============================] - 1s 222us/step - loss: 0.0038 - acc: 0.9991 - val_loss: 1.1120 - val_acc: 0.8347\n",
      "Epoch 49/100\n",
      "6460/6680 [============================>.] - ETA: 0s - loss: 0.0047 - acc: 0.9985\n",
      "Epoch 00049: val_loss did not improve\n",
      "6680/6680 [==============================] - 1s 221us/step - loss: 0.0045 - acc: 0.9985 - val_loss: 1.0973 - val_acc: 0.8311\n",
      "Epoch 50/100\n",
      "6580/6680 [============================>.] - ETA: 0s - loss: 0.0037 - acc: 0.9986\n",
      "Epoch 00050: val_loss did not improve\n",
      "6680/6680 [==============================] - 2s 225us/step - loss: 0.0037 - acc: 0.9987 - val_loss: 1.1291 - val_acc: 0.8275\n",
      "Epoch 51/100\n",
      "6640/6680 [============================>.] - ETA: 0s - loss: 0.0045 - acc: 0.9988\n",
      "Epoch 00051: val_loss did not improve\n",
      "6680/6680 [==============================] - 2s 227us/step - loss: 0.0044 - acc: 0.9988 - val_loss: 1.1234 - val_acc: 0.8275\n",
      "Epoch 52/100\n",
      "6600/6680 [============================>.] - ETA: 0s - loss: 0.0038 - acc: 0.9988\n",
      "Epoch 00052: val_loss did not improve\n",
      "6680/6680 [==============================] - 1s 223us/step - loss: 0.0044 - acc: 0.9987 - val_loss: 1.1171 - val_acc: 0.8311\n",
      "Epoch 53/100\n",
      "6600/6680 [============================>.] - ETA: 0s - loss: 0.0048 - acc: 0.9988\n",
      "Epoch 00053: val_loss did not improve\n",
      "6680/6680 [==============================] - 1s 223us/step - loss: 0.0048 - acc: 0.9988 - val_loss: 1.1401 - val_acc: 0.8287\n",
      "Epoch 54/100\n",
      "6460/6680 [============================>.] - ETA: 0s - loss: 0.0049 - acc: 0.9992\n",
      "Epoch 00054: val_loss did not improve\n",
      "6680/6680 [==============================] - 1s 222us/step - loss: 0.0047 - acc: 0.9993 - val_loss: 1.1105 - val_acc: 0.8323\n",
      "Epoch 55/100\n",
      "6460/6680 [============================>.] - ETA: 0s - loss: 0.0046 - acc: 0.9986\n",
      "Epoch 00055: val_loss did not improve\n",
      "6680/6680 [==============================] - 1s 220us/step - loss: 0.0045 - acc: 0.9987 - val_loss: 1.1418 - val_acc: 0.8287\n",
      "Epoch 56/100\n",
      "6420/6680 [===========================>..] - ETA: 0s - loss: 0.0047 - acc: 0.9988\n",
      "Epoch 00056: val_loss did not improve\n",
      "6680/6680 [==============================] - 1s 219us/step - loss: 0.0045 - acc: 0.9988 - val_loss: 1.1107 - val_acc: 0.8275\n",
      "Epoch 57/100\n",
      "6540/6680 [============================>.] - ETA: 0s - loss: 0.0044 - acc: 0.9988\n",
      "Epoch 00057: val_loss did not improve\n",
      "6680/6680 [==============================] - 1s 219us/step - loss: 0.0044 - acc: 0.9988 - val_loss: 1.1438 - val_acc: 0.8323\n",
      "Epoch 58/100\n",
      "6660/6680 [============================>.] - ETA: 0s - loss: 0.0040 - acc: 0.9986\n",
      "Epoch 00058: val_loss did not improve\n",
      "6680/6680 [==============================] - 1s 216us/step - loss: 0.0040 - acc: 0.9987 - val_loss: 1.1417 - val_acc: 0.8383\n",
      "Epoch 59/100\n",
      "6500/6680 [============================>.] - ETA: 0s - loss: 0.0047 - acc: 0.9991\n",
      "Epoch 00059: val_loss did not improve\n",
      "6680/6680 [==============================] - 1s 220us/step - loss: 0.0050 - acc: 0.9990 - val_loss: 1.1576 - val_acc: 0.8311\n",
      "Epoch 60/100\n",
      "6520/6680 [============================>.] - ETA: 0s - loss: 0.0048 - acc: 0.9988\n",
      "Epoch 00060: val_loss did not improve\n",
      "6680/6680 [==============================] - 1s 220us/step - loss: 0.0047 - acc: 0.9988 - val_loss: 1.1307 - val_acc: 0.8299\n",
      "Epoch 61/100\n",
      "6540/6680 [============================>.] - ETA: 0s - loss: 0.0041 - acc: 0.9991\n",
      "Epoch 00061: val_loss did not improve\n",
      "6680/6680 [==============================] - 1s 219us/step - loss: 0.0043 - acc: 0.9990 - val_loss: 1.1514 - val_acc: 0.8359\n",
      "Epoch 62/100\n",
      "6500/6680 [============================>.] - ETA: 0s - loss: 0.0043 - acc: 0.9989\n",
      "Epoch 00062: val_loss did not improve\n",
      "6680/6680 [==============================] - 1s 220us/step - loss: 0.0044 - acc: 0.9988 - val_loss: 1.1303 - val_acc: 0.8335\n",
      "Epoch 63/100\n",
      "6540/6680 [============================>.] - ETA: 0s - loss: 0.0046 - acc: 0.9983\n",
      "Epoch 00063: val_loss did not improve\n",
      "6680/6680 [==============================] - 1s 219us/step - loss: 0.0045 - acc: 0.9984 - val_loss: 1.1348 - val_acc: 0.8299\n"
     ]
    },
    {
     "name": "stdout",
     "output_type": "stream",
     "text": [
      "Epoch 64/100\n",
      "6540/6680 [============================>.] - ETA: 0s - loss: 0.0045 - acc: 0.9991\n",
      "Epoch 00064: val_loss did not improve\n",
      "6680/6680 [==============================] - 1s 218us/step - loss: 0.0049 - acc: 0.9990 - val_loss: 1.1460 - val_acc: 0.8323\n",
      "Epoch 65/100\n",
      "6480/6680 [============================>.] - ETA: 0s - loss: 0.0046 - acc: 0.9985\n",
      "Epoch 00065: val_loss did not improve\n",
      "6680/6680 [==============================] - 1s 221us/step - loss: 0.0044 - acc: 0.9985 - val_loss: 1.1575 - val_acc: 0.8311\n",
      "Epoch 66/100\n",
      "6560/6680 [============================>.] - ETA: 0s - loss: 0.0040 - acc: 0.9986\n",
      "Epoch 00066: val_loss did not improve\n",
      "6680/6680 [==============================] - 1s 219us/step - loss: 0.0040 - acc: 0.9987 - val_loss: 1.1774 - val_acc: 0.8299\n",
      "Epoch 67/100\n",
      "6520/6680 [============================>.] - ETA: 0s - loss: 0.0048 - acc: 0.9988\n",
      "Epoch 00067: val_loss did not improve\n",
      "6680/6680 [==============================] - 1s 220us/step - loss: 0.0047 - acc: 0.9988 - val_loss: 1.1360 - val_acc: 0.8311\n",
      "Epoch 68/100\n",
      "6460/6680 [============================>.] - ETA: 0s - loss: 0.0035 - acc: 0.9988\n",
      "Epoch 00068: val_loss did not improve\n",
      "6680/6680 [==============================] - 1s 221us/step - loss: 0.0034 - acc: 0.9988 - val_loss: 1.1563 - val_acc: 0.8311\n",
      "Epoch 69/100\n",
      "6640/6680 [============================>.] - ETA: 0s - loss: 0.0046 - acc: 0.9985\n",
      "Epoch 00069: val_loss did not improve\n",
      "6680/6680 [==============================] - 1s 223us/step - loss: 0.0046 - acc: 0.9985 - val_loss: 1.1658 - val_acc: 0.8347\n",
      "Epoch 70/100\n",
      "6460/6680 [============================>.] - ETA: 0s - loss: 0.0041 - acc: 0.9988\n",
      "Epoch 00070: val_loss did not improve\n",
      "6680/6680 [==============================] - 1s 221us/step - loss: 0.0047 - acc: 0.9987 - val_loss: 1.1496 - val_acc: 0.8311\n",
      "Epoch 71/100\n",
      "6520/6680 [============================>.] - ETA: 0s - loss: 0.0045 - acc: 0.9989\n",
      "Epoch 00071: val_loss did not improve\n",
      "6680/6680 [==============================] - 1s 220us/step - loss: 0.0046 - acc: 0.9988 - val_loss: 1.1687 - val_acc: 0.8347\n",
      "Epoch 72/100\n",
      "6480/6680 [============================>.] - ETA: 0s - loss: 0.0035 - acc: 0.9988\n",
      "Epoch 00072: val_loss did not improve\n",
      "6680/6680 [==============================] - 1s 221us/step - loss: 0.0034 - acc: 0.9988 - val_loss: 1.1483 - val_acc: 0.8299\n",
      "Epoch 73/100\n",
      "6480/6680 [============================>.] - ETA: 0s - loss: 0.0045 - acc: 0.9983\n",
      "Epoch 00073: val_loss did not improve\n",
      "6680/6680 [==============================] - 1s 219us/step - loss: 0.0043 - acc: 0.9984 - val_loss: 1.1473 - val_acc: 0.8311\n",
      "Epoch 74/100\n",
      "6520/6680 [============================>.] - ETA: 0s - loss: 0.0053 - acc: 0.9988\n",
      "Epoch 00074: val_loss did not improve\n",
      "6680/6680 [==============================] - 1s 218us/step - loss: 0.0051 - acc: 0.9988 - val_loss: 1.1464 - val_acc: 0.8347\n",
      "Epoch 75/100\n",
      "6500/6680 [============================>.] - ETA: 0s - loss: 0.0049 - acc: 0.9989\n",
      "Epoch 00075: val_loss did not improve\n",
      "6680/6680 [==============================] - 1s 219us/step - loss: 0.0048 - acc: 0.9990 - val_loss: 1.1626 - val_acc: 0.8335\n",
      "Epoch 76/100\n",
      "6540/6680 [============================>.] - ETA: 0s - loss: 0.0053 - acc: 0.9986\n",
      "Epoch 00076: val_loss did not improve\n",
      "6680/6680 [==============================] - 1s 218us/step - loss: 0.0052 - acc: 0.9987 - val_loss: 1.1589 - val_acc: 0.8335\n",
      "Epoch 77/100\n",
      "6520/6680 [============================>.] - ETA: 0s - loss: 0.0054 - acc: 0.9988\n",
      "Epoch 00077: val_loss did not improve\n",
      "6680/6680 [==============================] - 1s 219us/step - loss: 0.0053 - acc: 0.9988 - val_loss: 1.1455 - val_acc: 0.8335\n",
      "Epoch 78/100\n",
      "6620/6680 [============================>.] - ETA: 0s - loss: 0.0041 - acc: 0.9988\n",
      "Epoch 00078: val_loss did not improve\n",
      "6680/6680 [==============================] - 1s 222us/step - loss: 0.0041 - acc: 0.9988 - val_loss: 1.1776 - val_acc: 0.8347\n",
      "Epoch 79/100\n",
      "6440/6680 [===========================>..] - ETA: 0s - loss: 0.0043 - acc: 0.9989\n",
      "Epoch 00079: val_loss did not improve\n",
      "6680/6680 [==============================] - 1s 220us/step - loss: 0.0044 - acc: 0.9988 - val_loss: 1.1741 - val_acc: 0.8359\n",
      "Epoch 80/100\n",
      "6480/6680 [============================>.] - ETA: 0s - loss: 0.0047 - acc: 0.9989\n",
      "Epoch 00080: val_loss did not improve\n",
      "6680/6680 [==============================] - 1s 221us/step - loss: 0.0052 - acc: 0.9988 - val_loss: 1.1599 - val_acc: 0.8347\n",
      "Epoch 81/100\n",
      "6600/6680 [============================>.] - ETA: 0s - loss: 0.0039 - acc: 0.9988\n",
      "Epoch 00081: val_loss did not improve\n",
      "6680/6680 [==============================] - 1s 218us/step - loss: 0.0045 - acc: 0.9987 - val_loss: 1.1742 - val_acc: 0.8335\n",
      "Epoch 82/100\n",
      "6580/6680 [============================>.] - ETA: 0s - loss: 0.0052 - acc: 0.9989\n",
      "Epoch 00082: val_loss did not improve\n",
      "6680/6680 [==============================] - 1s 218us/step - loss: 0.0051 - acc: 0.9990 - val_loss: 1.1662 - val_acc: 0.8323\n",
      "Epoch 83/100\n",
      "6500/6680 [============================>.] - ETA: 0s - loss: 0.0038 - acc: 0.9988\n",
      "Epoch 00083: val_loss did not improve\n",
      "6680/6680 [==============================] - 1s 218us/step - loss: 0.0042 - acc: 0.9987 - val_loss: 1.1660 - val_acc: 0.8335\n",
      "Epoch 84/100\n",
      "6540/6680 [============================>.] - ETA: 0s - loss: 0.0042 - acc: 0.9986\n",
      "Epoch 00084: val_loss did not improve\n",
      "6680/6680 [==============================] - 1s 219us/step - loss: 0.0041 - acc: 0.9987 - val_loss: 1.1674 - val_acc: 0.8347\n",
      "Epoch 85/100\n",
      "6580/6680 [============================>.] - ETA: 0s - loss: 0.0055 - acc: 0.9986\n",
      "Epoch 00085: val_loss did not improve\n",
      "6680/6680 [==============================] - 1s 217us/step - loss: 0.0054 - acc: 0.9987 - val_loss: 1.1688 - val_acc: 0.8311\n",
      "Epoch 86/100\n",
      "6440/6680 [===========================>..] - ETA: 0s - loss: 0.0050 - acc: 0.9989\n",
      "Epoch 00086: val_loss did not improve\n",
      "6680/6680 [==============================] - 1s 222us/step - loss: 0.0048 - acc: 0.9990 - val_loss: 1.1642 - val_acc: 0.8347\n",
      "Epoch 87/100\n",
      "6540/6680 [============================>.] - ETA: 0s - loss: 0.0058 - acc: 0.9989\n",
      "Epoch 00087: val_loss did not improve\n",
      "6680/6680 [==============================] - 1s 219us/step - loss: 0.0057 - acc: 0.9990 - val_loss: 1.1627 - val_acc: 0.8347\n",
      "Epoch 88/100\n",
      "6520/6680 [============================>.] - ETA: 0s - loss: 0.0048 - acc: 0.9986\n",
      "Epoch 00088: val_loss did not improve\n",
      "6680/6680 [==============================] - 1s 219us/step - loss: 0.0047 - acc: 0.9987 - val_loss: 1.1725 - val_acc: 0.8347\n",
      "Epoch 89/100\n",
      "6480/6680 [============================>.] - ETA: 0s - loss: 0.0051 - acc: 0.9988\n",
      "Epoch 00089: val_loss did not improve\n",
      "6680/6680 [==============================] - 1s 220us/step - loss: 0.0049 - acc: 0.9988 - val_loss: 1.1565 - val_acc: 0.8347\n",
      "Epoch 90/100\n",
      "6620/6680 [============================>.] - ETA: 0s - loss: 0.0049 - acc: 0.9989\n",
      "Epoch 00090: val_loss did not improve\n",
      "6680/6680 [==============================] - 1s 223us/step - loss: 0.0049 - acc: 0.9990 - val_loss: 1.1649 - val_acc: 0.8359\n",
      "Epoch 91/100\n",
      "6460/6680 [============================>.] - ETA: 0s - loss: 0.0052 - acc: 0.9989\n",
      "Epoch 00091: val_loss did not improve\n",
      "6680/6680 [==============================] - 1s 221us/step - loss: 0.0050 - acc: 0.9990 - val_loss: 1.1615 - val_acc: 0.8371\n",
      "Epoch 92/100\n",
      "6520/6680 [============================>.] - ETA: 0s - loss: 0.0038 - acc: 0.9988\n",
      "Epoch 00092: val_loss did not improve\n",
      "6680/6680 [==============================] - 1s 219us/step - loss: 0.0038 - acc: 0.9987 - val_loss: 1.1820 - val_acc: 0.8311\n",
      "Epoch 93/100\n",
      "6600/6680 [============================>.] - ETA: 0s - loss: 0.0046 - acc: 0.9986\n",
      "Epoch 00093: val_loss did not improve\n",
      "6680/6680 [==============================] - 1s 217us/step - loss: 0.0045 - acc: 0.9987 - val_loss: 1.1651 - val_acc: 0.8323\n",
      "Epoch 94/100\n",
      "6520/6680 [============================>.] - ETA: 0s - loss: 0.0047 - acc: 0.9985\n",
      "Epoch 00094: val_loss did not improve\n",
      "6680/6680 [==============================] - 1s 221us/step - loss: 0.0046 - acc: 0.9985 - val_loss: 1.1658 - val_acc: 0.8347\n",
      "Epoch 95/100\n",
      "6480/6680 [============================>.] - ETA: 0s - loss: 0.0055 - acc: 0.9988\n",
      "Epoch 00095: val_loss did not improve\n",
      "6680/6680 [==============================] - 1s 218us/step - loss: 0.0053 - acc: 0.9988 - val_loss: 1.1681 - val_acc: 0.8335\n"
     ]
    },
    {
     "name": "stdout",
     "output_type": "stream",
     "text": [
      "Epoch 96/100\n",
      "6440/6680 [===========================>..] - ETA: 0s - loss: 0.0044 - acc: 0.9989\n",
      "Epoch 00096: val_loss did not improve\n",
      "6680/6680 [==============================] - 1s 220us/step - loss: 0.0047 - acc: 0.9988 - val_loss: 1.1619 - val_acc: 0.8335\n",
      "Epoch 97/100\n",
      "6640/6680 [============================>.] - ETA: 0s - loss: 0.0040 - acc: 0.9986\n",
      "Epoch 00097: val_loss did not improve\n",
      "6680/6680 [==============================] - 1s 221us/step - loss: 0.0039 - acc: 0.9987 - val_loss: 1.1728 - val_acc: 0.8335\n",
      "Epoch 98/100\n",
      "6480/6680 [============================>.] - ETA: 0s - loss: 0.0052 - acc: 0.9989\n",
      "Epoch 00098: val_loss did not improve\n",
      "6680/6680 [==============================] - 1s 221us/step - loss: 0.0050 - acc: 0.9990 - val_loss: 1.1872 - val_acc: 0.8335\n",
      "Epoch 99/100\n",
      "6480/6680 [============================>.] - ETA: 0s - loss: 0.0049 - acc: 0.9986\n",
      "Epoch 00099: val_loss did not improve\n",
      "6680/6680 [==============================] - 1s 221us/step - loss: 0.0047 - acc: 0.9987 - val_loss: 1.1731 - val_acc: 0.8311\n",
      "Epoch 100/100\n",
      "6520/6680 [============================>.] - ETA: 0s - loss: 0.0046 - acc: 0.9988\n",
      "Epoch 00100: val_loss did not improve\n",
      "6680/6680 [==============================] - 1s 219us/step - loss: 0.0045 - acc: 0.9988 - val_loss: 1.1752 - val_acc: 0.8323\n"
     ]
    },
    {
     "data": {
      "text/plain": [
       "<keras.callbacks.History at 0x7f93f4412160>"
      ]
     },
     "execution_count": 134,
     "metadata": {},
     "output_type": "execute_result"
    }
   ],
   "source": [
    "### TODO: Train the model.\n",
    "\n",
    "epochs = 100\n",
    "\n",
    "checkpointer_ResNet50 = ModelCheckpoint(filepath='saved_models/weights.best.ResNet50.hdf5', \n",
    "                               verbose=1, save_best_only=True)\n",
    "\n",
    "My_ResNet50_model.fit(train_resNet50, train_targets, \n",
    "          validation_data=(valid_resNet50, valid_targets),\n",
    "          epochs=epochs, batch_size=20, callbacks=[checkpointer_ResNet50], verbose=1)"
   ]
  },
  {
   "cell_type": "markdown",
   "metadata": {},
   "source": [
    "### (IMPLEMENTATION) Load the Model with the Best Validation Loss"
   ]
  },
  {
   "cell_type": "code",
   "execution_count": 135,
   "metadata": {},
   "outputs": [],
   "source": [
    "### TODO: Load the model weights with the best validation loss.\n",
    "\n",
    "My_ResNet50_model.load_weights('saved_models/weights.best.ResNet50.hdf5')"
   ]
  },
  {
   "cell_type": "markdown",
   "metadata": {},
   "source": [
    "### (IMPLEMENTATION) Test the Model\n",
    "\n",
    "Try out your model on the test dataset of dog images. Ensure that your test accuracy is greater than 60%."
   ]
  },
  {
   "cell_type": "code",
   "execution_count": 136,
   "metadata": {},
   "outputs": [
    {
     "name": "stdout",
     "output_type": "stream",
     "text": [
      "Test accuracy: 80.7416%\n"
     ]
    }
   ],
   "source": [
    "### TODO: Calculate classification accuracy on the test dataset.\n",
    "\n",
    "# get index of predicted dog breed for each image in test set\n",
    "ResNet50_predictions = [np.argmax(My_ResNet50_model.predict(np.expand_dims(feature, axis=0))) for feature in test_resNet50]\n",
    "\n",
    "# report test accuracy\n",
    "test_accuracy_ResNet50 = 100*np.sum(np.array(ResNet50_predictions)==np.argmax(test_targets, axis=1))/len(ResNet50_predictions)\n",
    "print('Test accuracy: %.4f%%' % test_accuracy_ResNet50)"
   ]
  },
  {
   "cell_type": "markdown",
   "metadata": {},
   "source": [
    "### (IMPLEMENTATION) Predict Dog Breed with the Model\n",
    "\n",
    "Write a function that takes an image path as input and returns the dog breed (`Affenpinscher`, `Afghan_hound`, etc) that is predicted by your model.  \n",
    "\n",
    "Similar to the analogous function in Step 5, your function should have three steps:\n",
    "1. Extract the bottleneck features corresponding to the chosen CNN model.\n",
    "2. Supply the bottleneck features as input to the model to return the predicted vector.  Note that the argmax of this prediction vector gives the index of the predicted dog breed.\n",
    "3. Use the `dog_names` array defined in Step 0 of this notebook to return the corresponding breed.\n",
    "\n",
    "The functions to extract the bottleneck features can be found in `extract_bottleneck_features.py`, and they have been imported in an earlier code cell.  To obtain the bottleneck features corresponding to your chosen CNN architecture, you need to use the function\n",
    "\n",
    "    extract_{network}\n",
    "    \n",
    "where `{network}`, in the above filename, should be one of `VGG19`, `Resnet50`, `InceptionV3`, or `Xception`."
   ]
  },
  {
   "cell_type": "code",
   "execution_count": 139,
   "metadata": {},
   "outputs": [
    {
     "name": "stdout",
     "output_type": "stream",
     "text": [
      "Predicted breed:  Cairn_terrier\n",
      "Actual breed:  Cairn_terrier\n"
     ]
    }
   ],
   "source": [
    "### TODO: Write a function that takes a path to an image as input\n",
    "### and returns the dog breed that is predicted by the model.\n",
    "\n",
    "def ResNet50_predict_breed(img_path):\n",
    "    # extract bottleneck features\n",
    "    bottleneck_feature = extract_Resnet50(path_to_tensor(img_path))\n",
    "    # obtain predicted vector\n",
    "    predicted_vector = My_ResNet50_model.predict(bottleneck_feature)\n",
    "    # return dog breed that is predicted by the model\n",
    "    return dog_names[np.argmax(predicted_vector)]\n",
    "\n",
    "\n",
    "dog_img_path = test_files[42]\n",
    "predicted_breed = ResNet50_predict_breed(dog_img_path)\n",
    "actual_breed = dog_names[np.argmax(test_targets[42])]\n",
    "print(\"Predicted breed: \", predicted_breed)\n",
    "print(\"Actual breed: \", actual_breed)"
   ]
  },
  {
   "cell_type": "markdown",
   "metadata": {},
   "source": [
    "---\n",
    "<a id='step6'></a>\n",
    "## Step 6: Write your Algorithm\n",
    "\n",
    "Write an algorithm that accepts a file path to an image and first determines whether the image contains a human, dog, or neither.  Then,\n",
    "- if a __dog__ is detected in the image, return the predicted breed.\n",
    "- if a __human__ is detected in the image, return the resembling dog breed.\n",
    "- if __neither__ is detected in the image, provide output that indicates an error.\n",
    "\n",
    "You are welcome to write your own functions for detecting humans and dogs in images, but feel free to use the `face_detector` and `dog_detector` functions developed above.  You are __required__ to use your CNN from Step 5 to predict dog breed.  \n",
    "\n",
    "Some sample output for our algorithm is provided below, but feel free to design your own user experience!\n",
    "\n",
    "![Sample Human Output](images/sample_human_output.png)\n",
    "\n",
    "\n",
    "### (IMPLEMENTATION) Write your Algorithm"
   ]
  },
  {
   "cell_type": "code",
   "execution_count": null,
   "metadata": {
    "collapsed": true
   },
   "outputs": [],
   "source": [
    "### TODO: Write your algorithm.\n",
    "### Feel free to use as many code cells as needed."
   ]
  },
  {
   "cell_type": "markdown",
   "metadata": {},
   "source": [
    "---\n",
    "<a id='step7'></a>\n",
    "## Step 7: Test Your Algorithm\n",
    "\n",
    "In this section, you will take your new algorithm for a spin!  What kind of dog does the algorithm think that __you__ look like?  If you have a dog, does it predict your dog's breed accurately?  If you have a cat, does it mistakenly think that your cat is a dog?\n",
    "\n",
    "### (IMPLEMENTATION) Test Your Algorithm on Sample Images!\n",
    "\n",
    "Test your algorithm at least six images on your computer.  Feel free to use any images you like.  Use at least two human and two dog images.  \n",
    "\n",
    "__Question 6:__ Is the output better than you expected :) ?  Or worse :( ?  Provide at least three possible points of improvement for your algorithm.\n",
    "\n",
    "__Answer:__ "
   ]
  },
  {
   "cell_type": "code",
   "execution_count": null,
   "metadata": {
    "collapsed": true
   },
   "outputs": [],
   "source": [
    "## TODO: Execute your algorithm from Step 6 on\n",
    "## at least 6 images on your computer.\n",
    "## Feel free to use as many code cells as needed."
   ]
  }
 ],
 "metadata": {
  "anaconda-cloud": {},
  "kernelspec": {
   "display_name": "Dog-Project",
   "language": "python",
   "name": "dog_project"
  },
  "language_info": {
   "codemirror_mode": {
    "name": "ipython",
    "version": 3
   },
   "file_extension": ".py",
   "mimetype": "text/x-python",
   "name": "python",
   "nbconvert_exporter": "python",
   "pygments_lexer": "ipython3",
   "version": "3.6.4"
  }
 },
 "nbformat": 4,
 "nbformat_minor": 1
}
